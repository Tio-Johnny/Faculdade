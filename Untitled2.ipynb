{
  "nbformat": 4,
  "nbformat_minor": 0,
  "metadata": {
    "colab": {
      "provenance": [],
      "authorship_tag": "ABX9TyOio3LiqK9+PMGIjXZPOi7A",
      "include_colab_link": true
    },
    "kernelspec": {
      "name": "python3",
      "display_name": "Python 3"
    },
    "language_info": {
      "name": "python"
    }
  },
  "cells": [
    {
      "cell_type": "markdown",
      "metadata": {
        "id": "view-in-github",
        "colab_type": "text"
      },
      "source": [
        "<a href=\"https://colab.research.google.com/github/Tio-Johnny/Faculdade/blob/main/Untitled2.ipynb\" target=\"_parent\"><img src=\"https://colab.research.google.com/assets/colab-badge.svg\" alt=\"Open In Colab\"/></a>"
      ]
    },
    {
      "cell_type": "code",
      "source": [
        "matriz = [[0] * 4 for _ in range(12)]  # Inicializando a matriz com zeros\n",
        "total_mensal = [0] * 12\n",
        "total_anual = 0\n",
        "\n",
        "# Preenchendo a matriz com valores inseridos pelo usuário\n",
        "for i in range(12):\n",
        "    for j in range(4):\n",
        "        matriz[i][j] = float(input(\"Informe o valor das vendas da semana {} do mês {}: \".format(j + 1, i + 1)))\n",
        "\n",
        "# Cálculo das vendas mensais e total anual\n",
        "for i in range(12):\n",
        "    total_mensal[i] = sum(matriz[i])\n",
        "    total_anual += total_mensal[i]\n",
        "\n",
        "    print(\"Total de vendas no mês {} foi {}\".format(i + 1, total_mensal[i]))\n",
        "\n",
        "print(\"Total de vendas no ano foi\", total_anual)\n",
        "\n"
      ],
      "metadata": {
        "id": "LyoObbok_143"
      },
      "execution_count": null,
      "outputs": []
    },
    {
      "cell_type": "markdown",
      "source": [
        "# Nova seção"
      ],
      "metadata": {
        "id": "1dSmmixHANQn"
      }
    },
    {
      "cell_type": "code",
      "source": [],
      "metadata": {
        "id": "8bQKeGAx_3Q1"
      },
      "execution_count": null,
      "outputs": []
    }
  ]
}